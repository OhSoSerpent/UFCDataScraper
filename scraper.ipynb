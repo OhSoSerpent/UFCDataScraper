{
  "nbformat": 4,
  "nbformat_minor": 0,
  "metadata": {
    "colab": {
      "provenance": [],
      "authorship_tag": "ABX9TyMqmYZEXjII5ZrvKiKjJTvs",
      "include_colab_link": true
    },
    "kernelspec": {
      "name": "python3",
      "display_name": "Python 3"
    },
    "language_info": {
      "name": "python"
    }
  },
  "cells": [
    {
      "cell_type": "markdown",
      "metadata": {
        "id": "view-in-github",
        "colab_type": "text"
      },
      "source": [
        "<a href=\"https://colab.research.google.com/github/OhSoSerpent/UFCDataScraper/blob/main/scraper.ipynb\" target=\"_parent\"><img src=\"https://colab.research.google.com/assets/colab-badge.svg\" alt=\"Open In Colab\"/></a>"
      ]
    },
    {
      "cell_type": "code",
      "execution_count": 11,
      "metadata": {
        "id": "J1OWKFOSW1Mf"
      },
      "outputs": [],
      "source": [
        "import requests\n",
        "from bs4 import BeautifulSoup\n",
        "import pandas as pd\n",
        "import time\n",
        "from io import StringIO"
      ]
    },
    {
      "cell_type": "code",
      "execution_count": 9,
      "metadata": {
        "id": "BqtpHPlFaKU7",
        "collapsed": true
      },
      "outputs": [],
      "source": [
        "#replace with the link to the next card\n",
        "urlScraped = \"http://www.ufcstats.com/event-details/81ddc98fceb30086\"\n",
        "dataFighters = requests.get(urlScraped)\n",
        "soup = BeautifulSoup(dataFighters.text)\n",
        "tableOfLinks = soup.select('table.b-fight-details__table')[0]\n",
        "columnOfDesiredLinks = 'table.b-fight-details__table'\n",
        "tableOfLinks = soup.select(columnOfDesiredLinks)[0]\n",
        "tableOfLinks = tableOfLinks.find_all('a')\n",
        "tableOfLinks = [l.get(\"data-link\") for l in tableOfLinks]\n",
        "tableOfLinks = [l for l in tableOfLinks if l is not None]"
      ]
    },
    {
      "cell_type": "code",
      "source": [
        "from re import S\n",
        "statsToCat = []\n",
        "for l in tableOfLinks:\n",
        "  dataOf = requests.get(l)\n",
        "  soup = BeautifulSoup(dataOf.text)\n",
        "  currStats = pd.read_html(StringIO(str(dataOf.text)))[0]\n",
        "  statsToCat.append(currStats)\n",
        "  time.sleep(1)"
      ],
      "metadata": {
        "collapsed": true,
        "id": "zr0moIILgDW7"
      },
      "execution_count": 13,
      "outputs": []
    },
    {
      "cell_type": "code",
      "source": [
        "from functools import reduce\n",
        "statsTotal = pd.concat(statsToCat, axis=1)"
      ],
      "metadata": {
        "collapsed": true,
        "id": "HyMlFL6Ripm2"
      },
      "execution_count": 17,
      "outputs": []
    },
    {
      "cell_type": "code",
      "source": [
        "#Doing some preliminary data cleaning by removing the absolutely unessential rows/columns\n",
        "statsTotal.drop([0, 7, 8, 13, 18, 19, 20, 21, 22, 23], inplace=True)\n",
        "statsTotal.reset_index(inplace=True, drop=True)\n",
        "statsTotal.drop(labels='Unnamed: 0', axis=1, inplace=True)"
      ],
      "metadata": {
        "collapsed": true,
        "id": "7XS7au_LpUc7"
      },
      "execution_count": 18,
      "outputs": []
    },
    {
      "cell_type": "code",
      "source": [
        "statsTotal.to_csv(\"ufcStats.csv\")"
      ],
      "metadata": {
        "id": "Yj9Mbd_gzgNG"
      },
      "execution_count": 19,
      "outputs": []
    }
  ]
}